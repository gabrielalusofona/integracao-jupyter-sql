{
 "cells": [
  {
   "cell_type": "markdown",
   "source": [
    "# Análise Numérica -  Projeto 1\n",
    "\n",
    "Neste projeto vocês têm de resolver dois problemas utilizando métodos numéricos para encontrar raízes de equações não lineares.\n",
    "\n",
    "O projeto está dividido em duas partes:\n",
    "- Exercícios práticos envolvendo métodos numéricos de solução de equações não lineares\n",
    "- Problemas\n",
    "\n"
   ],
   "metadata": {
    "collapsed": false
   }
  },
  {
   "cell_type": "markdown",
   "source": [
    "## Exercícios\n",
    "1. Nós queremos escrever uma função para o método da bissecção. Use o template abaixo para escrever o pseudo código do método\n",
    "\n",
    "```Python\n",
    "def Bisection(f , a , b , tol):\n",
    "# The input parameters are\n",
    "# f is a Python function or a lambda function\n",
    "# a is the lower guess\n",
    "# b is the upper guess\n",
    "# tol is an optional tolerance for the accuracy of the root\n",
    "\n",
    "# if the user doesn't define a tolerance we need\n",
    "# code to create a default\n",
    "\n",
    "# check that there is a root between a and b\n",
    "# if not we should return an error and break the code\n",
    "\n",
    "# next calculate the midpoint m = (a+b)/2\n",
    "\n",
    "# start a while loop\n",
    "#   # in the while loop we need an if statement\n",
    "#   # if ...\n",
    "#   # elif ...\n",
    "#   # elif ...\n",
    "\n",
    "#   # we should check that the while loop isn't running away\n",
    "\n",
    "# end the while loop\n",
    "# define and return the root\n",
    "```\n",
    "\n"
   ],
   "metadata": {
    "collapsed": false
   }
  },
  {
   "cell_type": "markdown",
   "source": [
    "2. Agora use o seu pseudo-código para implementar a função em Python. Escreva um código de teste para validar que a sua função funciona. Assegure-se que a sua função pode receber uma função, com um limite inferior inicial e um limite superior inicial e um parâmetro opcional para indicar a tolerância. A saída deve ser um único número: a raíz aproximada."
   ],
   "metadata": {
    "collapsed": false
   }
  },
  {
   "cell_type": "markdown",
   "source": [
    "3. Teste o seu método da bissecção nas equações:\n",
    "    a. $x^2 - 2 = 0$ para $x \\in [0, 2]$ <br>\n",
    "    b. $sin(x) + x^2 = 2ln(x) + 5$ para $x \\in [0, 5]$ (tenha cuidado, faça um plot primeiro) <br>\n",
    "    c. $(5-x)e^x = 5$ para $x \\in [0, 5]$"
   ],
   "metadata": {
    "collapsed": false
   }
  },
  {
   "cell_type": "markdown",
   "source": [
    "4. Crie uma nova função chamada `regulafalsi` e escreva comentários com o pseudo-código para o método Regula-Falsi."
   ],
   "metadata": {
    "collapsed": false
   }
  },
  {
   "cell_type": "markdown",
   "source": [
    "5. Use o pseudo-código anterior para criar uma função em Python que implemente o método Regula Falsi. Escreva um script de teste que verifique que a função retorna o valor esperado. Sua função deve aceitar uma função python como entrada, além dos extremos do intervalo inicial e um parâmetro opcional para a tolerância. A saída deve ser um único número: a raíz aproximada."
   ],
   "metadata": {
    "collapsed": false
   }
  },
  {
   "cell_type": "markdown",
   "source": [
    "6. Crie uma nova função chamada `newton` e escreva comentários com o pseudo-código para o método de Newton."
   ],
   "metadata": {
    "collapsed": false
   }
  },
  {
   "cell_type": "markdown",
   "source": [
    "7. Use o pseudo-código anterior para criar uma função em Python que implemente o método de Newton. Escreva um script de teste que verifique que a função retorna o valor esperado. Sua função deve aceitar uma função python como entrada, além dos extremos do intervalo inicial e um parâmetro opcional para a tolerância. A saída deve ser um único número: a raíz aproximada."
   ],
   "metadata": {
    "collapsed": false
   }
  },
  {
   "cell_type": "markdown",
   "source": [
    "8. Crie uma nova função chamada `secant` e escreva comentários com o pseudo-código para o método de Newton."
   ],
   "metadata": {
    "collapsed": false
   }
  },
  {
   "cell_type": "markdown",
   "source": [
    "9. Use o pseudo-código anterior para criar uma função em Python que implemente o método da Secante. Escreva um script de teste que verifique que a função retorna o valor esperado. Sua função deve aceitar uma função python como entrada, além dos extremos do intervalo inicial e um parâmetro opcional para a tolerância. A saída deve ser um único número: a raíz aproximada."
   ],
   "metadata": {
    "collapsed": false
   }
  },
  {
   "cell_type": "markdown",
   "source": [
    "10. Neste trabalho você vai mostrar que todos os seus algoritmos anteriores funcionam. No início das aulas sobre métodos numéricos para raízes não lineares nós olhamos para o problema de resolver a equação:\n",
    "$$3 sin(x) + 9 = x^2 - cos(x) $$\n",
    "\n",
    "Escreva um script que chame os métodos Bisection, Regula-Falsi, Newton e Secant, um de cada vez para encontrar a raíz positiva desta equação."
   ],
   "metadata": {
    "collapsed": false
   }
  },
  {
   "cell_type": "markdown",
   "source": [
    "## Problema 1: Bacias de Atração\n",
    "\n",
    "Bacias de Atração\n",
    "\n",
    "Seja $f(x)$ uma função diferenciável com várias raízes. Dado um valor inicial de $x$, deveríamos ser capazes de aplicar o Método de Newton a esse ponto inicial e convergir para uma das raízes (desde que você não esteja em um dos casos especiais discutidos na aula). É razoável supor que pontos iniciais próximos uns dos outros devem todos acabar na mesma raiz, e para algumas funções isso é verdadeiro. No entanto, não é verdadeiro em geral.\n",
    "\n",
    "Uma bacia de atração para uma raiz é o conjunto de valores de x que convergem para essa raiz sob iterações de Newton. Neste problema, você produzirá gráficos coloridos mostrando as bacias de atração para todas as seguintes funções. Faça isso da seguinte maneira:\n",
    "\n",
    "1. Encontre as raízes reais da função manualmente (isso deve ser fácil nas funções abaixo).\n",
    "2. Atribua uma cor diferente a cada uma das raízes.\n",
    "3. Escolha um ponto inicial no eixo x e use-o para começar o Método de Newton.\n",
    "4. Coloque uma cor no ponto inicial de acordo com a raiz à qual ele converge.\n",
    "5. Repita este processo para muitos pontos iniciais para obter uma imagem colorida do eixo x mostrando onde os pontos iniciais convergem.\n",
    "6. O conjunto de pontos que são todos da mesma cor é chamado de bacia de atração para a raiz associada a essa cor. Na Figura 2.13 há uma imagem de uma bacia de atração amostral.\n",
    "\n",
    "**Funções**\n",
    "1. Crie uma imagem das bacias de atração para a função $f(x) = (x-4)(x+1)$\n",
    "2. Crie uma imagem das bacias de atração para a função $f(x) = (x-1)(x+3)$\n",
    "3. Crie uma imagem das bacias de atração para a função $f(x) = (x-4)(x-1)(x+3)$\n",
    "4. Escolha uma função de uma variável não trivial, que tenha uma imagem interessante de bacias de atração. Explique porque você achou que este era um exemplo interessante.\n",
    "\n"
   ],
   "metadata": {
    "collapsed": false
   }
  },
  {
   "cell_type": "markdown",
   "source": [
    "\n",
    "## Problema 2: Artilharia\n",
    "\n",
    "Um oficial de artilharia deseja disparar seu canhão numa brigada inimiga. Ele deseja saber o ângulo para mirar o canhão a fim de atingir o alvo. Se tivermos controle sobre a velocidade inicial da bola de canhão, $v_0$, e o ângulo do canhão acima da horizontal, $\\theta$, então a componente vertical inicial da velocidade da bola é $v_y(0)=v_0sin (\\theta)$ e a componente horizontal inicial da velocidade da bola é $v_x(0)=v_0cos(\\theta)$.\n",
    "\n",
    "Neste problema, vamos assumir o seguinte:\n",
    "\n",
    "* Vamos negligenciar a resistência do ar, então, para todo o tempo, as equações diferenciais $v′_y(t)=−g$ e $v′_x(t)=0$ devem ser mantidas.\n",
    "* Vamos assumir que a posição do canhão é a origem de um sistema de coordenadas, então $s_x(0)=0$ e $s_y(0)=0$.\n",
    "* Vamos assumir que o alvo está na posição $(x_∗,y_∗)$ que você pode medir com precisão relativa à posição do canhão. A paisagem é relativamente plana, mas $y_∗$ poderia ser um pouco mais alto ou um pouco mais baixo que a posição do canhão.\n",
    "\n",
    "Use as informações fornecidas para escrever uma equação não linear que relacione $x_∗$, $y_∗$, $v_0$, $g$ e $\\theta$. Sabemos que $g=9.8m/s^2$ é constante e vamos assumir que a velocidade inicial pode ser ajustada está entre $v_0=100m/s$ e $v_0=150m/s$ com incrementos de 10m/s. Se, então, nos for dado um valor fixo de $x_∗$ e $y_∗$, a única variável restante para encontrar em sua equação é $\\theta$. Uma técnica numérica de busca de raízes pode então ser aplicada à sua equação para aproximar o ângulo. Crie várias tabelas de pesquisa para o oficial de artilharia, para que ele possa pesquisar com $v_0$, $x_∗$ e $y_∗$ e, em seguida, use suas tabelas para procurar o ângulo para ajustar o canhão. Certifique-se de indicar quando um alvo estiver fora de alcance.\n",
    "\n",
    "Escreva um breve relatório técnico detalhando seus métodos. Apoie seu trabalho com matemática apropriada e gráficos. Inclua suas tabelas no final do seu relatório.\n"
   ],
   "metadata": {
    "collapsed": false
   }
  },
  {
   "cell_type": "code",
   "execution_count": null,
   "metadata": {
    "collapsed": true
   },
   "outputs": [],
   "source": []
  }
 ],
 "metadata": {
  "kernelspec": {
   "display_name": "Python 3",
   "language": "python",
   "name": "python3"
  },
  "language_info": {
   "codemirror_mode": {
    "name": "ipython",
    "version": 2
   },
   "file_extension": ".py",
   "mimetype": "text/x-python",
   "name": "python",
   "nbconvert_exporter": "python",
   "pygments_lexer": "ipython2",
   "version": "2.7.6"
  }
 },
 "nbformat": 4,
 "nbformat_minor": 0
}
